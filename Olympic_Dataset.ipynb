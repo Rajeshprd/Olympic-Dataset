{
  "nbformat": 4,
  "nbformat_minor": 0,
  "metadata": {
    "colab": {
      "name": "Olympic Dataset.ipynb",
      "provenance": [],
      "collapsed_sections": [],
      "authorship_tag": "ABX9TyNH55AEsQ7+fNt97Ky9wmNn",
      "include_colab_link": true
    },
    "kernelspec": {
      "name": "python3",
      "display_name": "Python 3"
    },
    "language_info": {
      "name": "python"
    }
  },
  "cells": [
    {
      "cell_type": "markdown",
      "metadata": {
        "id": "view-in-github",
        "colab_type": "text"
      },
      "source": [
        "<a href=\"https://colab.research.google.com/github/Rajeshprd/Olympic-Dataset/blob/main/Olympic_Dataset.ipynb\" target=\"_parent\"><img src=\"https://colab.research.google.com/assets/colab-badge.svg\" alt=\"Open In Colab\"/></a>"
      ]
    },
    {
      "cell_type": "markdown",
      "source": [
        "#**Importing libraries**"
      ],
      "metadata": {
        "id": "0WFs1z96OFE7"
      }
    },
    {
      "cell_type": "code",
      "execution_count": 1,
      "metadata": {
        "id": "xhQldTGXL0Hw"
      },
      "outputs": [],
      "source": [
        "import pandas as pd \n",
        "import numpy as np \n",
        "import matplotlib.pyplot as plt\n",
        "import seaborn as sns"
      ]
    },
    {
      "cell_type": "markdown",
      "source": [
        "#**Importing the winter Dataset**"
      ],
      "metadata": {
        "id": "x60TtCkROd2e"
      }
    },
    {
      "cell_type": "code",
      "source": [
        "winter = pd.read_csv(\"/content/winter.csv\")"
      ],
      "metadata": {
        "id": "7weUacouOlQz"
      },
      "execution_count": 3,
      "outputs": []
    },
    {
      "cell_type": "markdown",
      "source": [
        "#**Importing the summer Dataset**"
      ],
      "metadata": {
        "id": "8vAw57hfP0sx"
      }
    },
    {
      "cell_type": "code",
      "source": [
        "summer = pd.read_csv(\"/content/summer.csv\")"
      ],
      "metadata": {
        "id": "x6X02i0uPbEM"
      },
      "execution_count": 7,
      "outputs": []
    },
    {
      "cell_type": "code",
      "source": [
        "summer.head()"
      ],
      "metadata": {
        "colab": {
          "base_uri": "https://localhost:8080/",
          "height": 206
        },
        "id": "7shTenSgQIuR",
        "outputId": "fbd9139e-f9a8-492e-b8a8-72db4137fed6"
      },
      "execution_count": 8,
      "outputs": [
        {
          "output_type": "execute_result",
          "data": {
            "text/html": [
              "<div>\n",
              "<style scoped>\n",
              "    .dataframe tbody tr th:only-of-type {\n",
              "        vertical-align: middle;\n",
              "    }\n",
              "\n",
              "    .dataframe tbody tr th {\n",
              "        vertical-align: top;\n",
              "    }\n",
              "\n",
              "    .dataframe thead th {\n",
              "        text-align: right;\n",
              "    }\n",
              "</style>\n",
              "<table border=\"1\" class=\"dataframe\">\n",
              "  <thead>\n",
              "    <tr style=\"text-align: right;\">\n",
              "      <th></th>\n",
              "      <th>Year</th>\n",
              "      <th>City</th>\n",
              "      <th>Sport</th>\n",
              "      <th>Discipline</th>\n",
              "      <th>Athlete</th>\n",
              "      <th>Country</th>\n",
              "      <th>Gender</th>\n",
              "      <th>Event</th>\n",
              "      <th>Medal</th>\n",
              "    </tr>\n",
              "  </thead>\n",
              "  <tbody>\n",
              "    <tr>\n",
              "      <th>0</th>\n",
              "      <td>1896</td>\n",
              "      <td>Athens</td>\n",
              "      <td>Aquatics</td>\n",
              "      <td>Swimming</td>\n",
              "      <td>HAJOS, Alfred</td>\n",
              "      <td>HUN</td>\n",
              "      <td>Men</td>\n",
              "      <td>100M Freestyle</td>\n",
              "      <td>Gold</td>\n",
              "    </tr>\n",
              "    <tr>\n",
              "      <th>1</th>\n",
              "      <td>1896</td>\n",
              "      <td>Athens</td>\n",
              "      <td>Aquatics</td>\n",
              "      <td>Swimming</td>\n",
              "      <td>HERSCHMANN, Otto</td>\n",
              "      <td>AUT</td>\n",
              "      <td>Men</td>\n",
              "      <td>100M Freestyle</td>\n",
              "      <td>Silver</td>\n",
              "    </tr>\n",
              "    <tr>\n",
              "      <th>2</th>\n",
              "      <td>1896</td>\n",
              "      <td>Athens</td>\n",
              "      <td>Aquatics</td>\n",
              "      <td>Swimming</td>\n",
              "      <td>DRIVAS, Dimitrios</td>\n",
              "      <td>GRE</td>\n",
              "      <td>Men</td>\n",
              "      <td>100M Freestyle For Sailors</td>\n",
              "      <td>Bronze</td>\n",
              "    </tr>\n",
              "    <tr>\n",
              "      <th>3</th>\n",
              "      <td>1896</td>\n",
              "      <td>Athens</td>\n",
              "      <td>Aquatics</td>\n",
              "      <td>Swimming</td>\n",
              "      <td>MALOKINIS, Ioannis</td>\n",
              "      <td>GRE</td>\n",
              "      <td>Men</td>\n",
              "      <td>100M Freestyle For Sailors</td>\n",
              "      <td>Gold</td>\n",
              "    </tr>\n",
              "    <tr>\n",
              "      <th>4</th>\n",
              "      <td>1896</td>\n",
              "      <td>Athens</td>\n",
              "      <td>Aquatics</td>\n",
              "      <td>Swimming</td>\n",
              "      <td>CHASAPIS, Spiridon</td>\n",
              "      <td>GRE</td>\n",
              "      <td>Men</td>\n",
              "      <td>100M Freestyle For Sailors</td>\n",
              "      <td>Silver</td>\n",
              "    </tr>\n",
              "  </tbody>\n",
              "</table>\n",
              "</div>"
            ],
            "text/plain": [
              "   Year    City     Sport  ... Gender                       Event   Medal\n",
              "0  1896  Athens  Aquatics  ...    Men              100M Freestyle    Gold\n",
              "1  1896  Athens  Aquatics  ...    Men              100M Freestyle  Silver\n",
              "2  1896  Athens  Aquatics  ...    Men  100M Freestyle For Sailors  Bronze\n",
              "3  1896  Athens  Aquatics  ...    Men  100M Freestyle For Sailors    Gold\n",
              "4  1896  Athens  Aquatics  ...    Men  100M Freestyle For Sailors  Silver\n",
              "\n",
              "[5 rows x 9 columns]"
            ]
          },
          "metadata": {},
          "execution_count": 8
        }
      ]
    },
    {
      "cell_type": "code",
      "source": [
        "summer.tail()"
      ],
      "metadata": {
        "colab": {
          "base_uri": "https://localhost:8080/",
          "height": 206
        },
        "id": "-mGmWYQBQLfb",
        "outputId": "839d5e58-3d79-4579-b06b-51f3a22d82ff"
      },
      "execution_count": 9,
      "outputs": [
        {
          "output_type": "execute_result",
          "data": {
            "text/html": [
              "<div>\n",
              "<style scoped>\n",
              "    .dataframe tbody tr th:only-of-type {\n",
              "        vertical-align: middle;\n",
              "    }\n",
              "\n",
              "    .dataframe tbody tr th {\n",
              "        vertical-align: top;\n",
              "    }\n",
              "\n",
              "    .dataframe thead th {\n",
              "        text-align: right;\n",
              "    }\n",
              "</style>\n",
              "<table border=\"1\" class=\"dataframe\">\n",
              "  <thead>\n",
              "    <tr style=\"text-align: right;\">\n",
              "      <th></th>\n",
              "      <th>Year</th>\n",
              "      <th>City</th>\n",
              "      <th>Sport</th>\n",
              "      <th>Discipline</th>\n",
              "      <th>Athlete</th>\n",
              "      <th>Country</th>\n",
              "      <th>Gender</th>\n",
              "      <th>Event</th>\n",
              "      <th>Medal</th>\n",
              "    </tr>\n",
              "  </thead>\n",
              "  <tbody>\n",
              "    <tr>\n",
              "      <th>31160</th>\n",
              "      <td>2012</td>\n",
              "      <td>London</td>\n",
              "      <td>Wrestling</td>\n",
              "      <td>Wrestling Freestyle</td>\n",
              "      <td>JANIKOWSKI, Damian</td>\n",
              "      <td>POL</td>\n",
              "      <td>Men</td>\n",
              "      <td>Wg 84 KG</td>\n",
              "      <td>Bronze</td>\n",
              "    </tr>\n",
              "    <tr>\n",
              "      <th>31161</th>\n",
              "      <td>2012</td>\n",
              "      <td>London</td>\n",
              "      <td>Wrestling</td>\n",
              "      <td>Wrestling Freestyle</td>\n",
              "      <td>REZAEI, Ghasem Gholamreza</td>\n",
              "      <td>IRI</td>\n",
              "      <td>Men</td>\n",
              "      <td>Wg 96 KG</td>\n",
              "      <td>Gold</td>\n",
              "    </tr>\n",
              "    <tr>\n",
              "      <th>31162</th>\n",
              "      <td>2012</td>\n",
              "      <td>London</td>\n",
              "      <td>Wrestling</td>\n",
              "      <td>Wrestling Freestyle</td>\n",
              "      <td>TOTROV, Rustam</td>\n",
              "      <td>RUS</td>\n",
              "      <td>Men</td>\n",
              "      <td>Wg 96 KG</td>\n",
              "      <td>Silver</td>\n",
              "    </tr>\n",
              "    <tr>\n",
              "      <th>31163</th>\n",
              "      <td>2012</td>\n",
              "      <td>London</td>\n",
              "      <td>Wrestling</td>\n",
              "      <td>Wrestling Freestyle</td>\n",
              "      <td>ALEKSANYAN, Artur</td>\n",
              "      <td>ARM</td>\n",
              "      <td>Men</td>\n",
              "      <td>Wg 96 KG</td>\n",
              "      <td>Bronze</td>\n",
              "    </tr>\n",
              "    <tr>\n",
              "      <th>31164</th>\n",
              "      <td>2012</td>\n",
              "      <td>London</td>\n",
              "      <td>Wrestling</td>\n",
              "      <td>Wrestling Freestyle</td>\n",
              "      <td>LIDBERG, Jimmy</td>\n",
              "      <td>SWE</td>\n",
              "      <td>Men</td>\n",
              "      <td>Wg 96 KG</td>\n",
              "      <td>Bronze</td>\n",
              "    </tr>\n",
              "  </tbody>\n",
              "</table>\n",
              "</div>"
            ],
            "text/plain": [
              "       Year    City      Sport  ... Gender     Event   Medal\n",
              "31160  2012  London  Wrestling  ...    Men  Wg 84 KG  Bronze\n",
              "31161  2012  London  Wrestling  ...    Men  Wg 96 KG    Gold\n",
              "31162  2012  London  Wrestling  ...    Men  Wg 96 KG  Silver\n",
              "31163  2012  London  Wrestling  ...    Men  Wg 96 KG  Bronze\n",
              "31164  2012  London  Wrestling  ...    Men  Wg 96 KG  Bronze\n",
              "\n",
              "[5 rows x 9 columns]"
            ]
          },
          "metadata": {},
          "execution_count": 9
        }
      ]
    },
    {
      "cell_type": "markdown",
      "source": [
        "#**Importing the dictionary Dataset**"
      ],
      "metadata": {
        "id": "FWNeP9jpQZK4"
      }
    },
    {
      "cell_type": "code",
      "source": [
        "dict = pd.read_csv(\"/content/dictionary.csv\")"
      ],
      "metadata": {
        "id": "D-OSnYj0QOCV"
      },
      "execution_count": 10,
      "outputs": []
    },
    {
      "cell_type": "code",
      "source": [
        "dict.head()"
      ],
      "metadata": {
        "colab": {
          "base_uri": "https://localhost:8080/",
          "height": 206
        },
        "id": "yC9ZHuvHQkOK",
        "outputId": "673981f4-f638-4f8b-a52c-7ac8b999e2ae"
      },
      "execution_count": 11,
      "outputs": [
        {
          "output_type": "execute_result",
          "data": {
            "text/html": [
              "<div>\n",
              "<style scoped>\n",
              "    .dataframe tbody tr th:only-of-type {\n",
              "        vertical-align: middle;\n",
              "    }\n",
              "\n",
              "    .dataframe tbody tr th {\n",
              "        vertical-align: top;\n",
              "    }\n",
              "\n",
              "    .dataframe thead th {\n",
              "        text-align: right;\n",
              "    }\n",
              "</style>\n",
              "<table border=\"1\" class=\"dataframe\">\n",
              "  <thead>\n",
              "    <tr style=\"text-align: right;\">\n",
              "      <th></th>\n",
              "      <th>Country</th>\n",
              "      <th>Code</th>\n",
              "      <th>Population</th>\n",
              "      <th>GDP per Capita</th>\n",
              "    </tr>\n",
              "  </thead>\n",
              "  <tbody>\n",
              "    <tr>\n",
              "      <th>0</th>\n",
              "      <td>Afghanistan</td>\n",
              "      <td>AFG</td>\n",
              "      <td>32526562.0</td>\n",
              "      <td>594.323081</td>\n",
              "    </tr>\n",
              "    <tr>\n",
              "      <th>1</th>\n",
              "      <td>Albania</td>\n",
              "      <td>ALB</td>\n",
              "      <td>2889167.0</td>\n",
              "      <td>3945.217582</td>\n",
              "    </tr>\n",
              "    <tr>\n",
              "      <th>2</th>\n",
              "      <td>Algeria</td>\n",
              "      <td>ALG</td>\n",
              "      <td>39666519.0</td>\n",
              "      <td>4206.031232</td>\n",
              "    </tr>\n",
              "    <tr>\n",
              "      <th>3</th>\n",
              "      <td>American Samoa*</td>\n",
              "      <td>ASA</td>\n",
              "      <td>55538.0</td>\n",
              "      <td>NaN</td>\n",
              "    </tr>\n",
              "    <tr>\n",
              "      <th>4</th>\n",
              "      <td>Andorra</td>\n",
              "      <td>AND</td>\n",
              "      <td>70473.0</td>\n",
              "      <td>NaN</td>\n",
              "    </tr>\n",
              "  </tbody>\n",
              "</table>\n",
              "</div>"
            ],
            "text/plain": [
              "           Country Code  Population  GDP per Capita\n",
              "0      Afghanistan  AFG  32526562.0      594.323081\n",
              "1          Albania  ALB   2889167.0     3945.217582\n",
              "2          Algeria  ALG  39666519.0     4206.031232\n",
              "3  American Samoa*  ASA     55538.0             NaN\n",
              "4          Andorra  AND     70473.0             NaN"
            ]
          },
          "metadata": {},
          "execution_count": 11
        }
      ]
    },
    {
      "cell_type": "code",
      "source": [
        "dict.tail()"
      ],
      "metadata": {
        "colab": {
          "base_uri": "https://localhost:8080/",
          "height": 206
        },
        "id": "ddfSj0WQQqQy",
        "outputId": "547781f1-96ee-4bbe-e33b-9affd50eb1a7"
      },
      "execution_count": 12,
      "outputs": [
        {
          "output_type": "execute_result",
          "data": {
            "text/html": [
              "<div>\n",
              "<style scoped>\n",
              "    .dataframe tbody tr th:only-of-type {\n",
              "        vertical-align: middle;\n",
              "    }\n",
              "\n",
              "    .dataframe tbody tr th {\n",
              "        vertical-align: top;\n",
              "    }\n",
              "\n",
              "    .dataframe thead th {\n",
              "        text-align: right;\n",
              "    }\n",
              "</style>\n",
              "<table border=\"1\" class=\"dataframe\">\n",
              "  <thead>\n",
              "    <tr style=\"text-align: right;\">\n",
              "      <th></th>\n",
              "      <th>Country</th>\n",
              "      <th>Code</th>\n",
              "      <th>Population</th>\n",
              "      <th>GDP per Capita</th>\n",
              "    </tr>\n",
              "  </thead>\n",
              "  <tbody>\n",
              "    <tr>\n",
              "      <th>196</th>\n",
              "      <td>Vietnam</td>\n",
              "      <td>VIE</td>\n",
              "      <td>91703800.0</td>\n",
              "      <td>2111.138024</td>\n",
              "    </tr>\n",
              "    <tr>\n",
              "      <th>197</th>\n",
              "      <td>Virgin Islands*</td>\n",
              "      <td>ISV</td>\n",
              "      <td>103574.0</td>\n",
              "      <td>NaN</td>\n",
              "    </tr>\n",
              "    <tr>\n",
              "      <th>198</th>\n",
              "      <td>Yemen</td>\n",
              "      <td>YEM</td>\n",
              "      <td>26832215.0</td>\n",
              "      <td>1406.291651</td>\n",
              "    </tr>\n",
              "    <tr>\n",
              "      <th>199</th>\n",
              "      <td>Zambia</td>\n",
              "      <td>ZAM</td>\n",
              "      <td>16211767.0</td>\n",
              "      <td>1304.879014</td>\n",
              "    </tr>\n",
              "    <tr>\n",
              "      <th>200</th>\n",
              "      <td>Zimbabwe</td>\n",
              "      <td>ZIM</td>\n",
              "      <td>15602751.0</td>\n",
              "      <td>924.143819</td>\n",
              "    </tr>\n",
              "  </tbody>\n",
              "</table>\n",
              "</div>"
            ],
            "text/plain": [
              "             Country Code  Population  GDP per Capita\n",
              "196          Vietnam  VIE  91703800.0     2111.138024\n",
              "197  Virgin Islands*  ISV    103574.0             NaN\n",
              "198            Yemen  YEM  26832215.0     1406.291651\n",
              "199           Zambia  ZAM  16211767.0     1304.879014\n",
              "200         Zimbabwe  ZIM  15602751.0      924.143819"
            ]
          },
          "metadata": {},
          "execution_count": 12
        }
      ]
    },
    {
      "cell_type": "markdown",
      "source": [
        "#**Analyzing the Winter Data**"
      ],
      "metadata": {
        "id": "GLycGiiEQ076"
      }
    },
    {
      "cell_type": "code",
      "source": [
        "winter.head()"
      ],
      "metadata": {
        "colab": {
          "base_uri": "https://localhost:8080/",
          "height": 206
        },
        "id": "qzrkiLoUQsGa",
        "outputId": "421c7d37-cb87-44da-ee80-08ea7806fc93"
      },
      "execution_count": 13,
      "outputs": [
        {
          "output_type": "execute_result",
          "data": {
            "text/html": [
              "<div>\n",
              "<style scoped>\n",
              "    .dataframe tbody tr th:only-of-type {\n",
              "        vertical-align: middle;\n",
              "    }\n",
              "\n",
              "    .dataframe tbody tr th {\n",
              "        vertical-align: top;\n",
              "    }\n",
              "\n",
              "    .dataframe thead th {\n",
              "        text-align: right;\n",
              "    }\n",
              "</style>\n",
              "<table border=\"1\" class=\"dataframe\">\n",
              "  <thead>\n",
              "    <tr style=\"text-align: right;\">\n",
              "      <th></th>\n",
              "      <th>Year</th>\n",
              "      <th>City</th>\n",
              "      <th>Sport</th>\n",
              "      <th>Discipline</th>\n",
              "      <th>Athlete</th>\n",
              "      <th>Country</th>\n",
              "      <th>Gender</th>\n",
              "      <th>Event</th>\n",
              "      <th>Medal</th>\n",
              "    </tr>\n",
              "  </thead>\n",
              "  <tbody>\n",
              "    <tr>\n",
              "      <th>0</th>\n",
              "      <td>1924</td>\n",
              "      <td>Chamonix</td>\n",
              "      <td>Biathlon</td>\n",
              "      <td>Biathlon</td>\n",
              "      <td>BERTHET, G.</td>\n",
              "      <td>FRA</td>\n",
              "      <td>Men</td>\n",
              "      <td>Military Patrol</td>\n",
              "      <td>Bronze</td>\n",
              "    </tr>\n",
              "    <tr>\n",
              "      <th>1</th>\n",
              "      <td>1924</td>\n",
              "      <td>Chamonix</td>\n",
              "      <td>Biathlon</td>\n",
              "      <td>Biathlon</td>\n",
              "      <td>MANDRILLON, C.</td>\n",
              "      <td>FRA</td>\n",
              "      <td>Men</td>\n",
              "      <td>Military Patrol</td>\n",
              "      <td>Bronze</td>\n",
              "    </tr>\n",
              "    <tr>\n",
              "      <th>2</th>\n",
              "      <td>1924</td>\n",
              "      <td>Chamonix</td>\n",
              "      <td>Biathlon</td>\n",
              "      <td>Biathlon</td>\n",
              "      <td>MANDRILLON, Maurice</td>\n",
              "      <td>FRA</td>\n",
              "      <td>Men</td>\n",
              "      <td>Military Patrol</td>\n",
              "      <td>Bronze</td>\n",
              "    </tr>\n",
              "    <tr>\n",
              "      <th>3</th>\n",
              "      <td>1924</td>\n",
              "      <td>Chamonix</td>\n",
              "      <td>Biathlon</td>\n",
              "      <td>Biathlon</td>\n",
              "      <td>VANDELLE, André</td>\n",
              "      <td>FRA</td>\n",
              "      <td>Men</td>\n",
              "      <td>Military Patrol</td>\n",
              "      <td>Bronze</td>\n",
              "    </tr>\n",
              "    <tr>\n",
              "      <th>4</th>\n",
              "      <td>1924</td>\n",
              "      <td>Chamonix</td>\n",
              "      <td>Biathlon</td>\n",
              "      <td>Biathlon</td>\n",
              "      <td>AUFDENBLATTEN, Adolf</td>\n",
              "      <td>SUI</td>\n",
              "      <td>Men</td>\n",
              "      <td>Military Patrol</td>\n",
              "      <td>Gold</td>\n",
              "    </tr>\n",
              "  </tbody>\n",
              "</table>\n",
              "</div>"
            ],
            "text/plain": [
              "   Year      City     Sport Discipline  ... Country Gender            Event   Medal\n",
              "0  1924  Chamonix  Biathlon   Biathlon  ...     FRA    Men  Military Patrol  Bronze\n",
              "1  1924  Chamonix  Biathlon   Biathlon  ...     FRA    Men  Military Patrol  Bronze\n",
              "2  1924  Chamonix  Biathlon   Biathlon  ...     FRA    Men  Military Patrol  Bronze\n",
              "3  1924  Chamonix  Biathlon   Biathlon  ...     FRA    Men  Military Patrol  Bronze\n",
              "4  1924  Chamonix  Biathlon   Biathlon  ...     SUI    Men  Military Patrol    Gold\n",
              "\n",
              "[5 rows x 9 columns]"
            ]
          },
          "metadata": {},
          "execution_count": 13
        }
      ]
    },
    {
      "cell_type": "code",
      "source": [
        "winter.tail()"
      ],
      "metadata": {
        "colab": {
          "base_uri": "https://localhost:8080/",
          "height": 206
        },
        "id": "-D3komcfRRJU",
        "outputId": "4dc14d79-15d1-408a-a11b-6589ec69c8f5"
      },
      "execution_count": 14,
      "outputs": [
        {
          "output_type": "execute_result",
          "data": {
            "text/html": [
              "<div>\n",
              "<style scoped>\n",
              "    .dataframe tbody tr th:only-of-type {\n",
              "        vertical-align: middle;\n",
              "    }\n",
              "\n",
              "    .dataframe tbody tr th {\n",
              "        vertical-align: top;\n",
              "    }\n",
              "\n",
              "    .dataframe thead th {\n",
              "        text-align: right;\n",
              "    }\n",
              "</style>\n",
              "<table border=\"1\" class=\"dataframe\">\n",
              "  <thead>\n",
              "    <tr style=\"text-align: right;\">\n",
              "      <th></th>\n",
              "      <th>Year</th>\n",
              "      <th>City</th>\n",
              "      <th>Sport</th>\n",
              "      <th>Discipline</th>\n",
              "      <th>Athlete</th>\n",
              "      <th>Country</th>\n",
              "      <th>Gender</th>\n",
              "      <th>Event</th>\n",
              "      <th>Medal</th>\n",
              "    </tr>\n",
              "  </thead>\n",
              "  <tbody>\n",
              "    <tr>\n",
              "      <th>5765</th>\n",
              "      <td>2014</td>\n",
              "      <td>Sochi</td>\n",
              "      <td>Skiing</td>\n",
              "      <td>Snowboard</td>\n",
              "      <td>JONES, Jenny</td>\n",
              "      <td>GBR</td>\n",
              "      <td>Women</td>\n",
              "      <td>Slopestyle</td>\n",
              "      <td>Bronze</td>\n",
              "    </tr>\n",
              "    <tr>\n",
              "      <th>5766</th>\n",
              "      <td>2014</td>\n",
              "      <td>Sochi</td>\n",
              "      <td>Skiing</td>\n",
              "      <td>Snowboard</td>\n",
              "      <td>ANDERSON, Jamie</td>\n",
              "      <td>USA</td>\n",
              "      <td>Women</td>\n",
              "      <td>Slopestyle</td>\n",
              "      <td>Gold</td>\n",
              "    </tr>\n",
              "    <tr>\n",
              "      <th>5767</th>\n",
              "      <td>2014</td>\n",
              "      <td>Sochi</td>\n",
              "      <td>Skiing</td>\n",
              "      <td>Snowboard</td>\n",
              "      <td>MALTAIS, Dominique</td>\n",
              "      <td>CAN</td>\n",
              "      <td>Women</td>\n",
              "      <td>Snowboard Cross</td>\n",
              "      <td>Silver</td>\n",
              "    </tr>\n",
              "    <tr>\n",
              "      <th>5768</th>\n",
              "      <td>2014</td>\n",
              "      <td>Sochi</td>\n",
              "      <td>Skiing</td>\n",
              "      <td>Snowboard</td>\n",
              "      <td>SAMKOVA, Eva</td>\n",
              "      <td>CZE</td>\n",
              "      <td>Women</td>\n",
              "      <td>Snowboard Cross</td>\n",
              "      <td>Gold</td>\n",
              "    </tr>\n",
              "    <tr>\n",
              "      <th>5769</th>\n",
              "      <td>2014</td>\n",
              "      <td>Sochi</td>\n",
              "      <td>Skiing</td>\n",
              "      <td>Snowboard</td>\n",
              "      <td>TRESPEUCH, Chloe</td>\n",
              "      <td>FRA</td>\n",
              "      <td>Women</td>\n",
              "      <td>Snowboard Cross</td>\n",
              "      <td>Bronze</td>\n",
              "    </tr>\n",
              "  </tbody>\n",
              "</table>\n",
              "</div>"
            ],
            "text/plain": [
              "      Year   City   Sport Discipline  ... Country Gender            Event   Medal\n",
              "5765  2014  Sochi  Skiing  Snowboard  ...     GBR  Women       Slopestyle  Bronze\n",
              "5766  2014  Sochi  Skiing  Snowboard  ...     USA  Women       Slopestyle    Gold\n",
              "5767  2014  Sochi  Skiing  Snowboard  ...     CAN  Women  Snowboard Cross  Silver\n",
              "5768  2014  Sochi  Skiing  Snowboard  ...     CZE  Women  Snowboard Cross    Gold\n",
              "5769  2014  Sochi  Skiing  Snowboard  ...     FRA  Women  Snowboard Cross  Bronze\n",
              "\n",
              "[5 rows x 9 columns]"
            ]
          },
          "metadata": {},
          "execution_count": 14
        }
      ]
    },
    {
      "cell_type": "code",
      "source": [
        "winter.rename(columns={'Country':'Code'}, inplace=True) # Rename the column country into code"
      ],
      "metadata": {
        "id": "Z1zOKYpTRSOJ"
      },
      "execution_count": 15,
      "outputs": []
    },
    {
      "cell_type": "code",
      "source": [
        "winter = pd.merge(winter, dict, on='Code', how='outer')"
      ],
      "metadata": {
        "id": "PS1i35YARvmL"
      },
      "execution_count": 16,
      "outputs": []
    },
    {
      "cell_type": "code",
      "source": [
        "winter.head()"
      ],
      "metadata": {
        "colab": {
          "base_uri": "https://localhost:8080/",
          "height": 206
        },
        "id": "etIctHm1STnZ",
        "outputId": "30cf4fc0-7fc0-492e-bf91-54e4f9210b8d"
      },
      "execution_count": 17,
      "outputs": [
        {
          "output_type": "execute_result",
          "data": {
            "text/html": [
              "<div>\n",
              "<style scoped>\n",
              "    .dataframe tbody tr th:only-of-type {\n",
              "        vertical-align: middle;\n",
              "    }\n",
              "\n",
              "    .dataframe tbody tr th {\n",
              "        vertical-align: top;\n",
              "    }\n",
              "\n",
              "    .dataframe thead th {\n",
              "        text-align: right;\n",
              "    }\n",
              "</style>\n",
              "<table border=\"1\" class=\"dataframe\">\n",
              "  <thead>\n",
              "    <tr style=\"text-align: right;\">\n",
              "      <th></th>\n",
              "      <th>Year</th>\n",
              "      <th>City</th>\n",
              "      <th>Sport</th>\n",
              "      <th>Discipline</th>\n",
              "      <th>Athlete</th>\n",
              "      <th>Code</th>\n",
              "      <th>Gender</th>\n",
              "      <th>Event</th>\n",
              "      <th>Medal</th>\n",
              "      <th>Country</th>\n",
              "      <th>Population</th>\n",
              "      <th>GDP per Capita</th>\n",
              "    </tr>\n",
              "  </thead>\n",
              "  <tbody>\n",
              "    <tr>\n",
              "      <th>0</th>\n",
              "      <td>1924.0</td>\n",
              "      <td>Chamonix</td>\n",
              "      <td>Biathlon</td>\n",
              "      <td>Biathlon</td>\n",
              "      <td>BERTHET, G.</td>\n",
              "      <td>FRA</td>\n",
              "      <td>Men</td>\n",
              "      <td>Military Patrol</td>\n",
              "      <td>Bronze</td>\n",
              "      <td>France</td>\n",
              "      <td>66808385.0</td>\n",
              "      <td>36205.568102</td>\n",
              "    </tr>\n",
              "    <tr>\n",
              "      <th>1</th>\n",
              "      <td>1924.0</td>\n",
              "      <td>Chamonix</td>\n",
              "      <td>Biathlon</td>\n",
              "      <td>Biathlon</td>\n",
              "      <td>MANDRILLON, C.</td>\n",
              "      <td>FRA</td>\n",
              "      <td>Men</td>\n",
              "      <td>Military Patrol</td>\n",
              "      <td>Bronze</td>\n",
              "      <td>France</td>\n",
              "      <td>66808385.0</td>\n",
              "      <td>36205.568102</td>\n",
              "    </tr>\n",
              "    <tr>\n",
              "      <th>2</th>\n",
              "      <td>1924.0</td>\n",
              "      <td>Chamonix</td>\n",
              "      <td>Biathlon</td>\n",
              "      <td>Biathlon</td>\n",
              "      <td>MANDRILLON, Maurice</td>\n",
              "      <td>FRA</td>\n",
              "      <td>Men</td>\n",
              "      <td>Military Patrol</td>\n",
              "      <td>Bronze</td>\n",
              "      <td>France</td>\n",
              "      <td>66808385.0</td>\n",
              "      <td>36205.568102</td>\n",
              "    </tr>\n",
              "    <tr>\n",
              "      <th>3</th>\n",
              "      <td>1924.0</td>\n",
              "      <td>Chamonix</td>\n",
              "      <td>Biathlon</td>\n",
              "      <td>Biathlon</td>\n",
              "      <td>VANDELLE, André</td>\n",
              "      <td>FRA</td>\n",
              "      <td>Men</td>\n",
              "      <td>Military Patrol</td>\n",
              "      <td>Bronze</td>\n",
              "      <td>France</td>\n",
              "      <td>66808385.0</td>\n",
              "      <td>36205.568102</td>\n",
              "    </tr>\n",
              "    <tr>\n",
              "      <th>4</th>\n",
              "      <td>1924.0</td>\n",
              "      <td>Chamonix</td>\n",
              "      <td>Curling</td>\n",
              "      <td>Curling</td>\n",
              "      <td>ALDEERT, H.</td>\n",
              "      <td>FRA</td>\n",
              "      <td>Men</td>\n",
              "      <td>Curling</td>\n",
              "      <td>Bronze</td>\n",
              "      <td>France</td>\n",
              "      <td>66808385.0</td>\n",
              "      <td>36205.568102</td>\n",
              "    </tr>\n",
              "  </tbody>\n",
              "</table>\n",
              "</div>"
            ],
            "text/plain": [
              "     Year      City     Sport  ... Country  Population GDP per Capita\n",
              "0  1924.0  Chamonix  Biathlon  ...  France  66808385.0   36205.568102\n",
              "1  1924.0  Chamonix  Biathlon  ...  France  66808385.0   36205.568102\n",
              "2  1924.0  Chamonix  Biathlon  ...  France  66808385.0   36205.568102\n",
              "3  1924.0  Chamonix  Biathlon  ...  France  66808385.0   36205.568102\n",
              "4  1924.0  Chamonix   Curling  ...  France  66808385.0   36205.568102\n",
              "\n",
              "[5 rows x 12 columns]"
            ]
          },
          "metadata": {},
          "execution_count": 17
        }
      ]
    },
    {
      "cell_type": "code",
      "source": [
        "winter.describe(include='all')"
      ],
      "metadata": {
        "colab": {
          "base_uri": "https://localhost:8080/",
          "height": 394
        },
        "id": "QNHn2Z9eSV8Z",
        "outputId": "60e03643-c322-4a19-de46-34e82d1301e8"
      },
      "execution_count": 18,
      "outputs": [
        {
          "output_type": "execute_result",
          "data": {
            "text/html": [
              "<div>\n",
              "<style scoped>\n",
              "    .dataframe tbody tr th:only-of-type {\n",
              "        vertical-align: middle;\n",
              "    }\n",
              "\n",
              "    .dataframe tbody tr th {\n",
              "        vertical-align: top;\n",
              "    }\n",
              "\n",
              "    .dataframe thead th {\n",
              "        text-align: right;\n",
              "    }\n",
              "</style>\n",
              "<table border=\"1\" class=\"dataframe\">\n",
              "  <thead>\n",
              "    <tr style=\"text-align: right;\">\n",
              "      <th></th>\n",
              "      <th>Year</th>\n",
              "      <th>City</th>\n",
              "      <th>Sport</th>\n",
              "      <th>Discipline</th>\n",
              "      <th>Athlete</th>\n",
              "      <th>Code</th>\n",
              "      <th>Gender</th>\n",
              "      <th>Event</th>\n",
              "      <th>Medal</th>\n",
              "      <th>Country</th>\n",
              "      <th>Population</th>\n",
              "      <th>GDP per Capita</th>\n",
              "    </tr>\n",
              "  </thead>\n",
              "  <tbody>\n",
              "    <tr>\n",
              "      <th>count</th>\n",
              "      <td>5770.000000</td>\n",
              "      <td>5770</td>\n",
              "      <td>5770</td>\n",
              "      <td>5770</td>\n",
              "      <td>5770</td>\n",
              "      <td>5934</td>\n",
              "      <td>5770</td>\n",
              "      <td>5770</td>\n",
              "      <td>5770</td>\n",
              "      <td>4990</td>\n",
              "      <td>4.985000e+03</td>\n",
              "      <td>4956.000000</td>\n",
              "    </tr>\n",
              "    <tr>\n",
              "      <th>unique</th>\n",
              "      <td>NaN</td>\n",
              "      <td>19</td>\n",
              "      <td>7</td>\n",
              "      <td>15</td>\n",
              "      <td>3761</td>\n",
              "      <td>209</td>\n",
              "      <td>2</td>\n",
              "      <td>83</td>\n",
              "      <td>3</td>\n",
              "      <td>201</td>\n",
              "      <td>NaN</td>\n",
              "      <td>NaN</td>\n",
              "    </tr>\n",
              "    <tr>\n",
              "      <th>top</th>\n",
              "      <td>NaN</td>\n",
              "      <td>Sochi</td>\n",
              "      <td>Skiing</td>\n",
              "      <td>Ice Hockey</td>\n",
              "      <td>BJOERNDALEN, Ole Einar</td>\n",
              "      <td>USA</td>\n",
              "      <td>Men</td>\n",
              "      <td>Ice Hockey</td>\n",
              "      <td>Silver</td>\n",
              "      <td>United States</td>\n",
              "      <td>NaN</td>\n",
              "      <td>NaN</td>\n",
              "    </tr>\n",
              "    <tr>\n",
              "      <th>freq</th>\n",
              "      <td>NaN</td>\n",
              "      <td>612</td>\n",
              "      <td>1781</td>\n",
              "      <td>1536</td>\n",
              "      <td>13</td>\n",
              "      <td>653</td>\n",
              "      <td>3944</td>\n",
              "      <td>1536</td>\n",
              "      <td>1930</td>\n",
              "      <td>653</td>\n",
              "      <td>NaN</td>\n",
              "      <td>NaN</td>\n",
              "    </tr>\n",
              "    <tr>\n",
              "      <th>mean</th>\n",
              "      <td>1986.350433</td>\n",
              "      <td>NaN</td>\n",
              "      <td>NaN</td>\n",
              "      <td>NaN</td>\n",
              "      <td>NaN</td>\n",
              "      <td>NaN</td>\n",
              "      <td>NaN</td>\n",
              "      <td>NaN</td>\n",
              "      <td>NaN</td>\n",
              "      <td>NaN</td>\n",
              "      <td>9.536055e+07</td>\n",
              "      <td>44738.744452</td>\n",
              "    </tr>\n",
              "    <tr>\n",
              "      <th>std</th>\n",
              "      <td>24.263673</td>\n",
              "      <td>NaN</td>\n",
              "      <td>NaN</td>\n",
              "      <td>NaN</td>\n",
              "      <td>NaN</td>\n",
              "      <td>NaN</td>\n",
              "      <td>NaN</td>\n",
              "      <td>NaN</td>\n",
              "      <td>NaN</td>\n",
              "      <td>NaN</td>\n",
              "      <td>1.953490e+08</td>\n",
              "      <td>19271.499099</td>\n",
              "    </tr>\n",
              "    <tr>\n",
              "      <th>min</th>\n",
              "      <td>1924.000000</td>\n",
              "      <td>NaN</td>\n",
              "      <td>NaN</td>\n",
              "      <td>NaN</td>\n",
              "      <td>NaN</td>\n",
              "      <td>NaN</td>\n",
              "      <td>NaN</td>\n",
              "      <td>NaN</td>\n",
              "      <td>NaN</td>\n",
              "      <td>NaN</td>\n",
              "      <td>1.022200e+04</td>\n",
              "      <td>277.068309</td>\n",
              "    </tr>\n",
              "    <tr>\n",
              "      <th>25%</th>\n",
              "      <td>1972.000000</td>\n",
              "      <td>NaN</td>\n",
              "      <td>NaN</td>\n",
              "      <td>NaN</td>\n",
              "      <td>NaN</td>\n",
              "      <td>NaN</td>\n",
              "      <td>NaN</td>\n",
              "      <td>NaN</td>\n",
              "      <td>NaN</td>\n",
              "      <td>NaN</td>\n",
              "      <td>8.286976e+06</td>\n",
              "      <td>41313.313995</td>\n",
              "    </tr>\n",
              "    <tr>\n",
              "      <th>50%</th>\n",
              "      <td>1994.000000</td>\n",
              "      <td>NaN</td>\n",
              "      <td>NaN</td>\n",
              "      <td>NaN</td>\n",
              "      <td>NaN</td>\n",
              "      <td>NaN</td>\n",
              "      <td>NaN</td>\n",
              "      <td>NaN</td>\n",
              "      <td>NaN</td>\n",
              "      <td>NaN</td>\n",
              "      <td>3.585177e+07</td>\n",
              "      <td>43248.529909</td>\n",
              "    </tr>\n",
              "    <tr>\n",
              "      <th>75%</th>\n",
              "      <td>2006.000000</td>\n",
              "      <td>NaN</td>\n",
              "      <td>NaN</td>\n",
              "      <td>NaN</td>\n",
              "      <td>NaN</td>\n",
              "      <td>NaN</td>\n",
              "      <td>NaN</td>\n",
              "      <td>NaN</td>\n",
              "      <td>NaN</td>\n",
              "      <td>NaN</td>\n",
              "      <td>8.141314e+07</td>\n",
              "      <td>56115.718426</td>\n",
              "    </tr>\n",
              "    <tr>\n",
              "      <th>max</th>\n",
              "      <td>2014.000000</td>\n",
              "      <td>NaN</td>\n",
              "      <td>NaN</td>\n",
              "      <td>NaN</td>\n",
              "      <td>NaN</td>\n",
              "      <td>NaN</td>\n",
              "      <td>NaN</td>\n",
              "      <td>NaN</td>\n",
              "      <td>NaN</td>\n",
              "      <td>NaN</td>\n",
              "      <td>1.371220e+09</td>\n",
              "      <td>101449.968168</td>\n",
              "    </tr>\n",
              "  </tbody>\n",
              "</table>\n",
              "</div>"
            ],
            "text/plain": [
              "               Year   City   Sport  ...        Country    Population GDP per Capita\n",
              "count   5770.000000   5770    5770  ...           4990  4.985000e+03    4956.000000\n",
              "unique          NaN     19       7  ...            201           NaN            NaN\n",
              "top             NaN  Sochi  Skiing  ...  United States           NaN            NaN\n",
              "freq            NaN    612    1781  ...            653           NaN            NaN\n",
              "mean    1986.350433    NaN     NaN  ...            NaN  9.536055e+07   44738.744452\n",
              "std       24.263673    NaN     NaN  ...            NaN  1.953490e+08   19271.499099\n",
              "min     1924.000000    NaN     NaN  ...            NaN  1.022200e+04     277.068309\n",
              "25%     1972.000000    NaN     NaN  ...            NaN  8.286976e+06   41313.313995\n",
              "50%     1994.000000    NaN     NaN  ...            NaN  3.585177e+07   43248.529909\n",
              "75%     2006.000000    NaN     NaN  ...            NaN  8.141314e+07   56115.718426\n",
              "max     2014.000000    NaN     NaN  ...            NaN  1.371220e+09  101449.968168\n",
              "\n",
              "[11 rows x 12 columns]"
            ]
          },
          "metadata": {},
          "execution_count": 18
        }
      ]
    },
    {
      "cell_type": "code",
      "source": [
        "winter.nunique()"
      ],
      "metadata": {
        "colab": {
          "base_uri": "https://localhost:8080/"
        },
        "id": "AriW-E3OTLF4",
        "outputId": "d63dea53-9137-4c31-a344-fac96089c4ac"
      },
      "execution_count": 19,
      "outputs": [
        {
          "output_type": "execute_result",
          "data": {
            "text/plain": [
              "Year                22\n",
              "City                19\n",
              "Sport                7\n",
              "Discipline          15\n",
              "Athlete           3761\n",
              "Code               209\n",
              "Gender               2\n",
              "Event               83\n",
              "Medal                3\n",
              "Country            201\n",
              "Population         196\n",
              "GDP per Capita     176\n",
              "dtype: int64"
            ]
          },
          "metadata": {},
          "execution_count": 19
        }
      ]
    },
    {
      "cell_type": "code",
      "source": [
        "winter.describe(include='O')"
      ],
      "metadata": {
        "colab": {
          "base_uri": "https://localhost:8080/",
          "height": 174
        },
        "id": "_uajhnZfTQt3",
        "outputId": "10a3e8ed-7ffa-49a7-cb88-4342a05195f5"
      },
      "execution_count": 20,
      "outputs": [
        {
          "output_type": "execute_result",
          "data": {
            "text/html": [
              "<div>\n",
              "<style scoped>\n",
              "    .dataframe tbody tr th:only-of-type {\n",
              "        vertical-align: middle;\n",
              "    }\n",
              "\n",
              "    .dataframe tbody tr th {\n",
              "        vertical-align: top;\n",
              "    }\n",
              "\n",
              "    .dataframe thead th {\n",
              "        text-align: right;\n",
              "    }\n",
              "</style>\n",
              "<table border=\"1\" class=\"dataframe\">\n",
              "  <thead>\n",
              "    <tr style=\"text-align: right;\">\n",
              "      <th></th>\n",
              "      <th>City</th>\n",
              "      <th>Sport</th>\n",
              "      <th>Discipline</th>\n",
              "      <th>Athlete</th>\n",
              "      <th>Code</th>\n",
              "      <th>Gender</th>\n",
              "      <th>Event</th>\n",
              "      <th>Medal</th>\n",
              "      <th>Country</th>\n",
              "    </tr>\n",
              "  </thead>\n",
              "  <tbody>\n",
              "    <tr>\n",
              "      <th>count</th>\n",
              "      <td>5770</td>\n",
              "      <td>5770</td>\n",
              "      <td>5770</td>\n",
              "      <td>5770</td>\n",
              "      <td>5934</td>\n",
              "      <td>5770</td>\n",
              "      <td>5770</td>\n",
              "      <td>5770</td>\n",
              "      <td>4990</td>\n",
              "    </tr>\n",
              "    <tr>\n",
              "      <th>unique</th>\n",
              "      <td>19</td>\n",
              "      <td>7</td>\n",
              "      <td>15</td>\n",
              "      <td>3761</td>\n",
              "      <td>209</td>\n",
              "      <td>2</td>\n",
              "      <td>83</td>\n",
              "      <td>3</td>\n",
              "      <td>201</td>\n",
              "    </tr>\n",
              "    <tr>\n",
              "      <th>top</th>\n",
              "      <td>Sochi</td>\n",
              "      <td>Skiing</td>\n",
              "      <td>Ice Hockey</td>\n",
              "      <td>BJOERNDALEN, Ole Einar</td>\n",
              "      <td>USA</td>\n",
              "      <td>Men</td>\n",
              "      <td>Ice Hockey</td>\n",
              "      <td>Silver</td>\n",
              "      <td>United States</td>\n",
              "    </tr>\n",
              "    <tr>\n",
              "      <th>freq</th>\n",
              "      <td>612</td>\n",
              "      <td>1781</td>\n",
              "      <td>1536</td>\n",
              "      <td>13</td>\n",
              "      <td>653</td>\n",
              "      <td>3944</td>\n",
              "      <td>1536</td>\n",
              "      <td>1930</td>\n",
              "      <td>653</td>\n",
              "    </tr>\n",
              "  </tbody>\n",
              "</table>\n",
              "</div>"
            ],
            "text/plain": [
              "         City   Sport  Discipline  ...       Event   Medal        Country\n",
              "count    5770    5770        5770  ...        5770    5770           4990\n",
              "unique     19       7          15  ...          83       3            201\n",
              "top     Sochi  Skiing  Ice Hockey  ...  Ice Hockey  Silver  United States\n",
              "freq      612    1781        1536  ...        1536    1930            653\n",
              "\n",
              "[4 rows x 9 columns]"
            ]
          },
          "metadata": {},
          "execution_count": 20
        }
      ]
    },
    {
      "cell_type": "markdown",
      "source": [
        "#**Who won the most medals**"
      ],
      "metadata": {
        "id": "IGVIbG9ZVast"
      }
    },
    {
      "cell_type": "code",
      "source": [
        "medals = winter.groupby(['Athlete', 'Medal'])['Sport'].count().reset_index().sort_values(by='Sport', ascending=False)"
      ],
      "metadata": {
        "id": "tqQwpz9mVdWf"
      },
      "execution_count": 35,
      "outputs": []
    },
    {
      "cell_type": "code",
      "source": [
        "medals"
      ],
      "metadata": {
        "colab": {
          "base_uri": "https://localhost:8080/",
          "height": 423
        },
        "id": "Wu7RoPY8Vl0m",
        "outputId": "7be354e0-d719-43b5-8f69-1aefe499a068"
      },
      "execution_count": 36,
      "outputs": [
        {
          "output_type": "execute_result",
          "data": {
            "text/html": [
              "<div>\n",
              "<style scoped>\n",
              "    .dataframe tbody tr th:only-of-type {\n",
              "        vertical-align: middle;\n",
              "    }\n",
              "\n",
              "    .dataframe tbody tr th {\n",
              "        vertical-align: top;\n",
              "    }\n",
              "\n",
              "    .dataframe thead th {\n",
              "        text-align: right;\n",
              "    }\n",
              "</style>\n",
              "<table border=\"1\" class=\"dataframe\">\n",
              "  <thead>\n",
              "    <tr style=\"text-align: right;\">\n",
              "      <th></th>\n",
              "      <th>Athlete</th>\n",
              "      <th>Medal</th>\n",
              "      <th>Sport</th>\n",
              "    </tr>\n",
              "  </thead>\n",
              "  <tbody>\n",
              "    <tr>\n",
              "      <th>724</th>\n",
              "      <td>DAEHLIE, Björn</td>\n",
              "      <td>Gold</td>\n",
              "      <td>8</td>\n",
              "    </tr>\n",
              "    <tr>\n",
              "      <th>384</th>\n",
              "      <td>BJOERNDALEN, Ole Einar</td>\n",
              "      <td>Gold</td>\n",
              "      <td>8</td>\n",
              "    </tr>\n",
              "    <tr>\n",
              "      <th>2029</th>\n",
              "      <td>KIRVESNIEMI, Harri</td>\n",
              "      <td>Bronze</td>\n",
              "      <td>6</td>\n",
              "    </tr>\n",
              "    <tr>\n",
              "      <th>380</th>\n",
              "      <td>BJOERGEN, Marit</td>\n",
              "      <td>Gold</td>\n",
              "      <td>6</td>\n",
              "    </tr>\n",
              "    <tr>\n",
              "      <th>928</th>\n",
              "      <td>EGOROVA, Ljubov</td>\n",
              "      <td>Gold</td>\n",
              "      <td>6</td>\n",
              "    </tr>\n",
              "    <tr>\n",
              "      <th>...</th>\n",
              "      <td>...</td>\n",
              "      <td>...</td>\n",
              "      <td>...</td>\n",
              "    </tr>\n",
              "    <tr>\n",
              "      <th>1710</th>\n",
              "      <td>INNAUER, Anton</td>\n",
              "      <td>Silver</td>\n",
              "      <td>1</td>\n",
              "    </tr>\n",
              "    <tr>\n",
              "      <th>1711</th>\n",
              "      <td>INNERHOFER, Christof</td>\n",
              "      <td>Bronze</td>\n",
              "      <td>1</td>\n",
              "    </tr>\n",
              "    <tr>\n",
              "      <th>1712</th>\n",
              "      <td>INNERHOFER, Christof</td>\n",
              "      <td>Silver</td>\n",
              "      <td>1</td>\n",
              "    </tr>\n",
              "    <tr>\n",
              "      <th>1713</th>\n",
              "      <td>INOUE, Junichi</td>\n",
              "      <td>Bronze</td>\n",
              "      <td>1</td>\n",
              "    </tr>\n",
              "    <tr>\n",
              "      <th>4729</th>\n",
              "      <td>ÖSTERREICH, Rolf</td>\n",
              "      <td>Silver</td>\n",
              "      <td>1</td>\n",
              "    </tr>\n",
              "  </tbody>\n",
              "</table>\n",
              "<p>4730 rows × 3 columns</p>\n",
              "</div>"
            ],
            "text/plain": [
              "                     Athlete   Medal  Sport\n",
              "724           DAEHLIE, Björn    Gold      8\n",
              "384   BJOERNDALEN, Ole Einar    Gold      8\n",
              "2029      KIRVESNIEMI, Harri  Bronze      6\n",
              "380          BJOERGEN, Marit    Gold      6\n",
              "928          EGOROVA, Ljubov    Gold      6\n",
              "...                      ...     ...    ...\n",
              "1710          INNAUER, Anton  Silver      1\n",
              "1711    INNERHOFER, Christof  Bronze      1\n",
              "1712    INNERHOFER, Christof  Silver      1\n",
              "1713          INOUE, Junichi  Bronze      1\n",
              "4729        ÖSTERREICH, Rolf  Silver      1\n",
              "\n",
              "[4730 rows x 3 columns]"
            ]
          },
          "metadata": {},
          "execution_count": 36
        }
      ]
    },
    {
      "cell_type": "markdown",
      "source": [
        "#**Medal Distribution in top 10 countries [Winter Olympics]:**"
      ],
      "metadata": {
        "id": "5Ck26OgFTX8m"
      }
    },
    {
      "cell_type": "code",
      "source": [
        "medals_country = winter.groupby(['Country', 'Medal'])['Gender'].count().reset_index().sort_values(by='Gender', ascending=False)"
      ],
      "metadata": {
        "id": "oyuEsUZYTUIf"
      },
      "execution_count": 21,
      "outputs": []
    },
    {
      "cell_type": "code",
      "source": [
        "medals_country"
      ],
      "metadata": {
        "colab": {
          "base_uri": "https://localhost:8080/",
          "height": 423
        },
        "id": "r_-ygEG_Tg-_",
        "outputId": "8d5c8280-0ffb-425e-971e-ef7a7f10cdfb"
      },
      "execution_count": 22,
      "outputs": [
        {
          "output_type": "execute_result",
          "data": {
            "text/html": [
              "<div>\n",
              "<style scoped>\n",
              "    .dataframe tbody tr th:only-of-type {\n",
              "        vertical-align: middle;\n",
              "    }\n",
              "\n",
              "    .dataframe tbody tr th {\n",
              "        vertical-align: top;\n",
              "    }\n",
              "\n",
              "    .dataframe thead th {\n",
              "        text-align: right;\n",
              "    }\n",
              "</style>\n",
              "<table border=\"1\" class=\"dataframe\">\n",
              "  <thead>\n",
              "    <tr style=\"text-align: right;\">\n",
              "      <th></th>\n",
              "      <th>Country</th>\n",
              "      <th>Medal</th>\n",
              "      <th>Gender</th>\n",
              "    </tr>\n",
              "  </thead>\n",
              "  <tbody>\n",
              "    <tr>\n",
              "      <th>97</th>\n",
              "      <td>United States</td>\n",
              "      <td>Silver</td>\n",
              "      <td>319</td>\n",
              "    </tr>\n",
              "    <tr>\n",
              "      <th>16</th>\n",
              "      <td>Canada</td>\n",
              "      <td>Gold</td>\n",
              "      <td>315</td>\n",
              "    </tr>\n",
              "    <tr>\n",
              "      <th>31</th>\n",
              "      <td>Finland</td>\n",
              "      <td>Bronze</td>\n",
              "      <td>221</td>\n",
              "    </tr>\n",
              "    <tr>\n",
              "      <th>17</th>\n",
              "      <td>Canada</td>\n",
              "      <td>Silver</td>\n",
              "      <td>203</td>\n",
              "    </tr>\n",
              "    <tr>\n",
              "      <th>83</th>\n",
              "      <td>Sweden</td>\n",
              "      <td>Bronze</td>\n",
              "      <td>177</td>\n",
              "    </tr>\n",
              "    <tr>\n",
              "      <th>...</th>\n",
              "      <td>...</td>\n",
              "      <td>...</td>\n",
              "      <td>...</td>\n",
              "    </tr>\n",
              "    <tr>\n",
              "      <th>51</th>\n",
              "      <td>Korea, North</td>\n",
              "      <td>Bronze</td>\n",
              "      <td>1</td>\n",
              "    </tr>\n",
              "    <tr>\n",
              "      <th>28</th>\n",
              "      <td>Estonia</td>\n",
              "      <td>Bronze</td>\n",
              "      <td>1</td>\n",
              "    </tr>\n",
              "    <tr>\n",
              "      <th>21</th>\n",
              "      <td>Croatia</td>\n",
              "      <td>Bronze</td>\n",
              "      <td>1</td>\n",
              "    </tr>\n",
              "    <tr>\n",
              "      <th>13</th>\n",
              "      <td>Bulgaria</td>\n",
              "      <td>Gold</td>\n",
              "      <td>1</td>\n",
              "    </tr>\n",
              "    <tr>\n",
              "      <th>98</th>\n",
              "      <td>Uzbekistan</td>\n",
              "      <td>Gold</td>\n",
              "      <td>1</td>\n",
              "    </tr>\n",
              "  </tbody>\n",
              "</table>\n",
              "<p>99 rows × 3 columns</p>\n",
              "</div>"
            ],
            "text/plain": [
              "          Country   Medal  Gender\n",
              "97  United States  Silver     319\n",
              "16         Canada    Gold     315\n",
              "31        Finland  Bronze     221\n",
              "17         Canada  Silver     203\n",
              "83         Sweden  Bronze     177\n",
              "..            ...     ...     ...\n",
              "51   Korea, North  Bronze       1\n",
              "28        Estonia  Bronze       1\n",
              "21        Croatia  Bronze       1\n",
              "13       Bulgaria    Gold       1\n",
              "98     Uzbekistan    Gold       1\n",
              "\n",
              "[99 rows x 3 columns]"
            ]
          },
          "metadata": {},
          "execution_count": 22
        }
      ]
    },
    {
      "cell_type": "code",
      "source": [
        "top = medals_country.pivot('Country', 'Medal', 'Gender').fillna(0)"
      ],
      "metadata": {
        "id": "ShJ8lq5gTiBH"
      },
      "execution_count": 23,
      "outputs": []
    },
    {
      "cell_type": "code",
      "source": [
        "top = top.sort_values(by='Gold', ascending=False)[:10]"
      ],
      "metadata": {
        "id": "YTx7AqhUUDFg"
      },
      "execution_count": 25,
      "outputs": []
    },
    {
      "cell_type": "code",
      "source": [
        "top"
      ],
      "metadata": {
        "colab": {
          "base_uri": "https://localhost:8080/",
          "height": 394
        },
        "id": "hfXDWW2bTrfw",
        "outputId": "cc1991eb-fcf4-4053-cc9a-e2722a5bd540"
      },
      "execution_count": 26,
      "outputs": [
        {
          "output_type": "execute_result",
          "data": {
            "text/html": [
              "<div>\n",
              "<style scoped>\n",
              "    .dataframe tbody tr th:only-of-type {\n",
              "        vertical-align: middle;\n",
              "    }\n",
              "\n",
              "    .dataframe tbody tr th {\n",
              "        vertical-align: top;\n",
              "    }\n",
              "\n",
              "    .dataframe thead th {\n",
              "        text-align: right;\n",
              "    }\n",
              "</style>\n",
              "<table border=\"1\" class=\"dataframe\">\n",
              "  <thead>\n",
              "    <tr style=\"text-align: right;\">\n",
              "      <th>Medal</th>\n",
              "      <th>Bronze</th>\n",
              "      <th>Gold</th>\n",
              "      <th>Silver</th>\n",
              "    </tr>\n",
              "    <tr>\n",
              "      <th>Country</th>\n",
              "      <th></th>\n",
              "      <th></th>\n",
              "      <th></th>\n",
              "    </tr>\n",
              "  </thead>\n",
              "  <tbody>\n",
              "    <tr>\n",
              "      <th>Canada</th>\n",
              "      <td>107.0</td>\n",
              "      <td>315.0</td>\n",
              "      <td>203.0</td>\n",
              "    </tr>\n",
              "    <tr>\n",
              "      <th>United States</th>\n",
              "      <td>167.0</td>\n",
              "      <td>167.0</td>\n",
              "      <td>319.0</td>\n",
              "    </tr>\n",
              "    <tr>\n",
              "      <th>Norway</th>\n",
              "      <td>127.0</td>\n",
              "      <td>159.0</td>\n",
              "      <td>171.0</td>\n",
              "    </tr>\n",
              "    <tr>\n",
              "      <th>Germany</th>\n",
              "      <td>97.0</td>\n",
              "      <td>137.0</td>\n",
              "      <td>126.0</td>\n",
              "    </tr>\n",
              "    <tr>\n",
              "      <th>Sweden</th>\n",
              "      <td>177.0</td>\n",
              "      <td>127.0</td>\n",
              "      <td>129.0</td>\n",
              "    </tr>\n",
              "    <tr>\n",
              "      <th>Russia</th>\n",
              "      <td>79.0</td>\n",
              "      <td>94.0</td>\n",
              "      <td>90.0</td>\n",
              "    </tr>\n",
              "    <tr>\n",
              "      <th>Austria</th>\n",
              "      <td>103.0</td>\n",
              "      <td>79.0</td>\n",
              "      <td>98.0</td>\n",
              "    </tr>\n",
              "    <tr>\n",
              "      <th>Switzerland</th>\n",
              "      <td>132.0</td>\n",
              "      <td>76.0</td>\n",
              "      <td>77.0</td>\n",
              "    </tr>\n",
              "    <tr>\n",
              "      <th>Finland</th>\n",
              "      <td>221.0</td>\n",
              "      <td>66.0</td>\n",
              "      <td>147.0</td>\n",
              "    </tr>\n",
              "    <tr>\n",
              "      <th>Italy</th>\n",
              "      <td>77.0</td>\n",
              "      <td>58.0</td>\n",
              "      <td>57.0</td>\n",
              "    </tr>\n",
              "  </tbody>\n",
              "</table>\n",
              "</div>"
            ],
            "text/plain": [
              "Medal          Bronze   Gold  Silver\n",
              "Country                             \n",
              "Canada          107.0  315.0   203.0\n",
              "United States   167.0  167.0   319.0\n",
              "Norway          127.0  159.0   171.0\n",
              "Germany          97.0  137.0   126.0\n",
              "Sweden          177.0  127.0   129.0\n",
              "Russia           79.0   94.0    90.0\n",
              "Austria         103.0   79.0    98.0\n",
              "Switzerland     132.0   76.0    77.0\n",
              "Finland         221.0   66.0   147.0\n",
              "Italy            77.0   58.0    57.0"
            ]
          },
          "metadata": {},
          "execution_count": 26
        }
      ]
    },
    {
      "cell_type": "markdown",
      "source": [
        "###**Visulization the data**"
      ],
      "metadata": {
        "id": "FCmGTf9sUKVe"
      }
    },
    {
      "cell_type": "code",
      "source": [
        "fig = top.plot.barh(width=0.8)\n",
        "fig = plt.gcf()\n",
        "fig.set_size_inches(12,12)\n",
        "plt.title('Medals Distribution top 10 countries [Winter Olympics]')\n",
        "plt.show()"
      ],
      "metadata": {
        "colab": {
          "base_uri": "https://localhost:8080/",
          "height": 715
        },
        "id": "FgamPW3KTsa_",
        "outputId": "823e2337-3a93-428f-d1e2-44276d0ac2a8"
      },
      "execution_count": 28,
      "outputs": [
        {
          "output_type": "display_data",
          "data": {
            "image/png": "[encoded data removed]",
            "text/plain": [
              "<Figure size 864x864 with 1 Axes>"
            ]
          },
          "metadata": {
            "needs_background": "light"
          }
        }
      ]
    },
    {
      "cell_type": "markdown",
      "source": [
        "#**Analyzing the Summer Data**"
      ],
      "metadata": {
        "id": "WQa-brQCUltK"
      }
    },
    {
      "cell_type": "code",
      "source": [
        "summer.rename(columns={'Country' : 'Code'}, inplace=True) # Rename the column country into code"
      ],
      "metadata": {
        "id": "6UkJgqWFUVkM"
      },
      "execution_count": 29,
      "outputs": []
    },
    {
      "cell_type": "code",
      "source": [
        "summer = pd.merge(summer, dict, on='Code', how='outer')"
      ],
      "metadata": {
        "id": "vOnzsYR-Uzpe"
      },
      "execution_count": 30,
      "outputs": []
    },
    {
      "cell_type": "code",
      "source": [
        "summer.head()"
      ],
      "metadata": {
        "colab": {
          "base_uri": "https://localhost:8080/",
          "height": 206
        },
        "id": "i2jGC1alU4j9",
        "outputId": "0b96c447-266e-4a80-862a-d99fe9de2919"
      },
      "execution_count": 31,
      "outputs": [
        {
          "output_type": "execute_result",
          "data": {
            "text/html": [
              "<div>\n",
              "<style scoped>\n",
              "    .dataframe tbody tr th:only-of-type {\n",
              "        vertical-align: middle;\n",
              "    }\n",
              "\n",
              "    .dataframe tbody tr th {\n",
              "        vertical-align: top;\n",
              "    }\n",
              "\n",
              "    .dataframe thead th {\n",
              "        text-align: right;\n",
              "    }\n",
              "</style>\n",
              "<table border=\"1\" class=\"dataframe\">\n",
              "  <thead>\n",
              "    <tr style=\"text-align: right;\">\n",
              "      <th></th>\n",
              "      <th>Year</th>\n",
              "      <th>City</th>\n",
              "      <th>Sport</th>\n",
              "      <th>Discipline</th>\n",
              "      <th>Athlete</th>\n",
              "      <th>Code</th>\n",
              "      <th>Gender</th>\n",
              "      <th>Event</th>\n",
              "      <th>Medal</th>\n",
              "      <th>Country</th>\n",
              "      <th>Population</th>\n",
              "      <th>GDP per Capita</th>\n",
              "    </tr>\n",
              "  </thead>\n",
              "  <tbody>\n",
              "    <tr>\n",
              "      <th>0</th>\n",
              "      <td>1896.0</td>\n",
              "      <td>Athens</td>\n",
              "      <td>Aquatics</td>\n",
              "      <td>Swimming</td>\n",
              "      <td>HAJOS, Alfred</td>\n",
              "      <td>HUN</td>\n",
              "      <td>Men</td>\n",
              "      <td>100M Freestyle</td>\n",
              "      <td>Gold</td>\n",
              "      <td>Hungary</td>\n",
              "      <td>9844686.0</td>\n",
              "      <td>12363.54346</td>\n",
              "    </tr>\n",
              "    <tr>\n",
              "      <th>1</th>\n",
              "      <td>1896.0</td>\n",
              "      <td>Athens</td>\n",
              "      <td>Aquatics</td>\n",
              "      <td>Swimming</td>\n",
              "      <td>HAJOS, Alfred</td>\n",
              "      <td>HUN</td>\n",
              "      <td>Men</td>\n",
              "      <td>1200M Freestyle</td>\n",
              "      <td>Gold</td>\n",
              "      <td>Hungary</td>\n",
              "      <td>9844686.0</td>\n",
              "      <td>12363.54346</td>\n",
              "    </tr>\n",
              "    <tr>\n",
              "      <th>2</th>\n",
              "      <td>1896.0</td>\n",
              "      <td>Athens</td>\n",
              "      <td>Athletics</td>\n",
              "      <td>Athletics</td>\n",
              "      <td>SZOKOLYI, Alajos</td>\n",
              "      <td>HUN</td>\n",
              "      <td>Men</td>\n",
              "      <td>100M</td>\n",
              "      <td>Bronze</td>\n",
              "      <td>Hungary</td>\n",
              "      <td>9844686.0</td>\n",
              "      <td>12363.54346</td>\n",
              "    </tr>\n",
              "    <tr>\n",
              "      <th>3</th>\n",
              "      <td>1896.0</td>\n",
              "      <td>Athens</td>\n",
              "      <td>Athletics</td>\n",
              "      <td>Athletics</td>\n",
              "      <td>DANI, Nandor</td>\n",
              "      <td>HUN</td>\n",
              "      <td>Men</td>\n",
              "      <td>800M</td>\n",
              "      <td>Silver</td>\n",
              "      <td>Hungary</td>\n",
              "      <td>9844686.0</td>\n",
              "      <td>12363.54346</td>\n",
              "    </tr>\n",
              "    <tr>\n",
              "      <th>4</th>\n",
              "      <td>1896.0</td>\n",
              "      <td>Athens</td>\n",
              "      <td>Athletics</td>\n",
              "      <td>Athletics</td>\n",
              "      <td>KELLNER, Gyula</td>\n",
              "      <td>HUN</td>\n",
              "      <td>Men</td>\n",
              "      <td>Marathon</td>\n",
              "      <td>Bronze</td>\n",
              "      <td>Hungary</td>\n",
              "      <td>9844686.0</td>\n",
              "      <td>12363.54346</td>\n",
              "    </tr>\n",
              "  </tbody>\n",
              "</table>\n",
              "</div>"
            ],
            "text/plain": [
              "     Year    City      Sport  ...  Country Population GDP per Capita\n",
              "0  1896.0  Athens   Aquatics  ...  Hungary  9844686.0    12363.54346\n",
              "1  1896.0  Athens   Aquatics  ...  Hungary  9844686.0    12363.54346\n",
              "2  1896.0  Athens  Athletics  ...  Hungary  9844686.0    12363.54346\n",
              "3  1896.0  Athens  Athletics  ...  Hungary  9844686.0    12363.54346\n",
              "4  1896.0  Athens  Athletics  ...  Hungary  9844686.0    12363.54346\n",
              "\n",
              "[5 rows x 12 columns]"
            ]
          },
          "metadata": {},
          "execution_count": 31
        }
      ]
    },
    {
      "cell_type": "code",
      "source": [
        "summer.nunique()"
      ],
      "metadata": {
        "colab": {
          "base_uri": "https://localhost:8080/"
        },
        "id": "G5Sj7C-DU7Dt",
        "outputId": "32695040-cf08-4eae-b8a0-c25ae7793a3a"
      },
      "execution_count": 32,
      "outputs": [
        {
          "output_type": "execute_result",
          "data": {
            "text/plain": [
              "Year                 27\n",
              "City                 22\n",
              "Sport                43\n",
              "Discipline           67\n",
              "Athlete           22762\n",
              "Code                219\n",
              "Gender                2\n",
              "Event               666\n",
              "Medal                 3\n",
              "Country             201\n",
              "Population          196\n",
              "GDP per Capita      176\n",
              "dtype: int64"
            ]
          },
          "metadata": {},
          "execution_count": 32
        }
      ]
    },
    {
      "cell_type": "code",
      "source": [
        "summer.describe()"
      ],
      "metadata": {
        "colab": {
          "base_uri": "https://localhost:8080/",
          "height": 300
        },
        "id": "P3DYrbTfVAxV",
        "outputId": "d99aec47-b9f6-4c02-d6c5-0c6a7f52191c"
      },
      "execution_count": 33,
      "outputs": [
        {
          "output_type": "execute_result",
          "data": {
            "text/html": [
              "<div>\n",
              "<style scoped>\n",
              "    .dataframe tbody tr th:only-of-type {\n",
              "        vertical-align: middle;\n",
              "    }\n",
              "\n",
              "    .dataframe tbody tr th {\n",
              "        vertical-align: top;\n",
              "    }\n",
              "\n",
              "    .dataframe thead th {\n",
              "        text-align: right;\n",
              "    }\n",
              "</style>\n",
              "<table border=\"1\" class=\"dataframe\">\n",
              "  <thead>\n",
              "    <tr style=\"text-align: right;\">\n",
              "      <th></th>\n",
              "      <th>Year</th>\n",
              "      <th>Population</th>\n",
              "      <th>GDP per Capita</th>\n",
              "    </tr>\n",
              "  </thead>\n",
              "  <tbody>\n",
              "    <tr>\n",
              "      <th>count</th>\n",
              "      <td>31165.000000</td>\n",
              "      <td>2.576600e+04</td>\n",
              "      <td>25200.000000</td>\n",
              "    </tr>\n",
              "    <tr>\n",
              "      <th>mean</th>\n",
              "      <td>1970.482785</td>\n",
              "      <td>1.482346e+08</td>\n",
              "      <td>36746.158771</td>\n",
              "    </tr>\n",
              "    <tr>\n",
              "      <th>std</th>\n",
              "      <td>33.158416</td>\n",
              "      <td>2.669055e+08</td>\n",
              "      <td>19584.821782</td>\n",
              "    </tr>\n",
              "    <tr>\n",
              "      <th>min</th>\n",
              "      <td>1896.000000</td>\n",
              "      <td>1.022200e+04</td>\n",
              "      <td>277.068309</td>\n",
              "    </tr>\n",
              "    <tr>\n",
              "      <th>25%</th>\n",
              "      <td>1948.000000</td>\n",
              "      <td>1.138956e+07</td>\n",
              "      <td>16088.277587</td>\n",
              "    </tr>\n",
              "    <tr>\n",
              "      <th>50%</th>\n",
              "      <td>1980.000000</td>\n",
              "      <td>6.080208e+07</td>\n",
              "      <td>41313.313995</td>\n",
              "    </tr>\n",
              "    <tr>\n",
              "      <th>75%</th>\n",
              "      <td>2000.000000</td>\n",
              "      <td>1.440968e+08</td>\n",
              "      <td>56115.718426</td>\n",
              "    </tr>\n",
              "    <tr>\n",
              "      <th>max</th>\n",
              "      <td>2012.000000</td>\n",
              "      <td>1.371220e+09</td>\n",
              "      <td>101449.968168</td>\n",
              "    </tr>\n",
              "  </tbody>\n",
              "</table>\n",
              "</div>"
            ],
            "text/plain": [
              "               Year    Population  GDP per Capita\n",
              "count  31165.000000  2.576600e+04    25200.000000\n",
              "mean    1970.482785  1.482346e+08    36746.158771\n",
              "std       33.158416  2.669055e+08    19584.821782\n",
              "min     1896.000000  1.022200e+04      277.068309\n",
              "25%     1948.000000  1.138956e+07    16088.277587\n",
              "50%     1980.000000  6.080208e+07    41313.313995\n",
              "75%     2000.000000  1.440968e+08    56115.718426\n",
              "max     2012.000000  1.371220e+09   101449.968168"
            ]
          },
          "metadata": {},
          "execution_count": 33
        }
      ]
    },
    {
      "cell_type": "markdown",
      "source": [
        "#**Who won the most medals**"
      ],
      "metadata": {
        "id": "hqton_qWVvnV"
      }
    },
    {
      "cell_type": "code",
      "source": [
        "medals = summer.groupby(['Athlete', 'Medal'])['Sport'].count().reset_index().sort_values(by='Sport', ascending=False)"
      ],
      "metadata": {
        "id": "dlC1eLwBVDv9"
      },
      "execution_count": 37,
      "outputs": []
    },
    {
      "cell_type": "code",
      "source": [
        "medals"
      ],
      "metadata": {
        "colab": {
          "base_uri": "https://localhost:8080/",
          "height": 423
        },
        "id": "25ogtExlV0N7",
        "outputId": "2627bba8-07ee-40ac-f739-d1f8e2ea8145"
      },
      "execution_count": 38,
      "outputs": [
        {
          "output_type": "execute_result",
          "data": {
            "text/html": [
              "<div>\n",
              "<style scoped>\n",
              "    .dataframe tbody tr th:only-of-type {\n",
              "        vertical-align: middle;\n",
              "    }\n",
              "\n",
              "    .dataframe tbody tr th {\n",
              "        vertical-align: top;\n",
              "    }\n",
              "\n",
              "    .dataframe thead th {\n",
              "        text-align: right;\n",
              "    }\n",
              "</style>\n",
              "<table border=\"1\" class=\"dataframe\">\n",
              "  <thead>\n",
              "    <tr style=\"text-align: right;\">\n",
              "      <th></th>\n",
              "      <th>Athlete</th>\n",
              "      <th>Medal</th>\n",
              "      <th>Sport</th>\n",
              "    </tr>\n",
              "  </thead>\n",
              "  <tbody>\n",
              "    <tr>\n",
              "      <th>18383</th>\n",
              "      <td>PHELPS, Michael</td>\n",
              "      <td>Gold</td>\n",
              "      <td>18</td>\n",
              "    </tr>\n",
              "    <tr>\n",
              "      <th>13465</th>\n",
              "      <td>LEWIS, Carl</td>\n",
              "      <td>Gold</td>\n",
              "      <td>9</td>\n",
              "    </tr>\n",
              "    <tr>\n",
              "      <th>17060</th>\n",
              "      <td>NURMI, Paavo</td>\n",
              "      <td>Gold</td>\n",
              "      <td>9</td>\n",
              "    </tr>\n",
              "    <tr>\n",
              "      <th>22145</th>\n",
              "      <td>SPITZ, Mark</td>\n",
              "      <td>Gold</td>\n",
              "      <td>9</td>\n",
              "    </tr>\n",
              "    <tr>\n",
              "      <th>13061</th>\n",
              "      <td>LATYNINA, Larisa</td>\n",
              "      <td>Gold</td>\n",
              "      <td>9</td>\n",
              "    </tr>\n",
              "    <tr>\n",
              "      <th>...</th>\n",
              "      <td>...</td>\n",
              "      <td>...</td>\n",
              "      <td>...</td>\n",
              "    </tr>\n",
              "    <tr>\n",
              "      <th>9498</th>\n",
              "      <td>HODGES, Laura</td>\n",
              "      <td>Bronze</td>\n",
              "      <td>1</td>\n",
              "    </tr>\n",
              "    <tr>\n",
              "      <th>9497</th>\n",
              "      <td>HODGE, Percy</td>\n",
              "      <td>Gold</td>\n",
              "      <td>1</td>\n",
              "    </tr>\n",
              "    <tr>\n",
              "      <th>9496</th>\n",
              "      <td>HODGE, Megan</td>\n",
              "      <td>Silver</td>\n",
              "      <td>1</td>\n",
              "    </tr>\n",
              "    <tr>\n",
              "      <th>9495</th>\n",
              "      <td>HODGE, Daniel Allen</td>\n",
              "      <td>Silver</td>\n",
              "      <td>1</td>\n",
              "    </tr>\n",
              "    <tr>\n",
              "      <th>26723</th>\n",
              "      <td>ÖSTRAND, Per-Olof</td>\n",
              "      <td>Bronze</td>\n",
              "      <td>1</td>\n",
              "    </tr>\n",
              "  </tbody>\n",
              "</table>\n",
              "<p>26724 rows × 3 columns</p>\n",
              "</div>"
            ],
            "text/plain": [
              "                   Athlete   Medal  Sport\n",
              "18383      PHELPS, Michael    Gold     18\n",
              "13465          LEWIS, Carl    Gold      9\n",
              "17060         NURMI, Paavo    Gold      9\n",
              "22145          SPITZ, Mark    Gold      9\n",
              "13061     LATYNINA, Larisa    Gold      9\n",
              "...                    ...     ...    ...\n",
              "9498         HODGES, Laura  Bronze      1\n",
              "9497          HODGE, Percy    Gold      1\n",
              "9496          HODGE, Megan  Silver      1\n",
              "9495   HODGE, Daniel Allen  Silver      1\n",
              "26723    ÖSTRAND, Per-Olof  Bronze      1\n",
              "\n",
              "[26724 rows x 3 columns]"
            ]
          },
          "metadata": {},
          "execution_count": 38
        }
      ]
    },
    {
      "cell_type": "markdown",
      "source": [
        "#**Medal Distribution in top 10 countries [Summer Olympics]:**"
      ],
      "metadata": {
        "id": "ByFFhJpyV553"
      }
    },
    {
      "cell_type": "code",
      "source": [
        "medals_country = summer.groupby(['Country', 'Medal'])['Gender'].count().reset_index().sort_values(by='Gender', ascending=False)"
      ],
      "metadata": {
        "id": "9yn07D4IV2TN"
      },
      "execution_count": 39,
      "outputs": []
    },
    {
      "cell_type": "code",
      "source": [
        "medals_country"
      ],
      "metadata": {
        "colab": {
          "base_uri": "https://localhost:8080/",
          "height": 423
        },
        "id": "bDCmamQoWBZC",
        "outputId": "d0682202-949b-461a-84bc-05a7433466b6"
      },
      "execution_count": 40,
      "outputs": [
        {
          "output_type": "execute_result",
          "data": {
            "text/html": [
              "<div>\n",
              "<style scoped>\n",
              "    .dataframe tbody tr th:only-of-type {\n",
              "        vertical-align: middle;\n",
              "    }\n",
              "\n",
              "    .dataframe tbody tr th {\n",
              "        vertical-align: top;\n",
              "    }\n",
              "\n",
              "    .dataframe thead th {\n",
              "        text-align: right;\n",
              "    }\n",
              "</style>\n",
              "<table border=\"1\" class=\"dataframe\">\n",
              "  <thead>\n",
              "    <tr style=\"text-align: right;\">\n",
              "      <th></th>\n",
              "      <th>Country</th>\n",
              "      <th>Medal</th>\n",
              "      <th>Gender</th>\n",
              "    </tr>\n",
              "  </thead>\n",
              "  <tbody>\n",
              "    <tr>\n",
              "      <th>283</th>\n",
              "      <td>United States</td>\n",
              "      <td>Gold</td>\n",
              "      <td>2235</td>\n",
              "    </tr>\n",
              "    <tr>\n",
              "      <th>284</th>\n",
              "      <td>United States</td>\n",
              "      <td>Silver</td>\n",
              "      <td>1252</td>\n",
              "    </tr>\n",
              "    <tr>\n",
              "      <th>282</th>\n",
              "      <td>United States</td>\n",
              "      <td>Bronze</td>\n",
              "      <td>1098</td>\n",
              "    </tr>\n",
              "    <tr>\n",
              "      <th>281</th>\n",
              "      <td>United Kingdom</td>\n",
              "      <td>Silver</td>\n",
              "      <td>621</td>\n",
              "    </tr>\n",
              "    <tr>\n",
              "      <th>279</th>\n",
              "      <td>United Kingdom</td>\n",
              "      <td>Bronze</td>\n",
              "      <td>553</td>\n",
              "    </tr>\n",
              "    <tr>\n",
              "      <th>...</th>\n",
              "      <td>...</td>\n",
              "      <td>...</td>\n",
              "      <td>...</td>\n",
              "    </tr>\n",
              "    <tr>\n",
              "      <th>264</th>\n",
              "      <td>Trinidad and Tobago</td>\n",
              "      <td>Gold</td>\n",
              "      <td>1</td>\n",
              "    </tr>\n",
              "    <tr>\n",
              "      <th>75</th>\n",
              "      <td>Ecuador</td>\n",
              "      <td>Gold</td>\n",
              "      <td>1</td>\n",
              "    </tr>\n",
              "    <tr>\n",
              "      <th>166</th>\n",
              "      <td>Luxembourg</td>\n",
              "      <td>Gold</td>\n",
              "      <td>1</td>\n",
              "    </tr>\n",
              "    <tr>\n",
              "      <th>132</th>\n",
              "      <td>Israel</td>\n",
              "      <td>Gold</td>\n",
              "      <td>1</td>\n",
              "    </tr>\n",
              "    <tr>\n",
              "      <th>72</th>\n",
              "      <td>Dominican Republic</td>\n",
              "      <td>Bronze</td>\n",
              "      <td>1</td>\n",
              "    </tr>\n",
              "  </tbody>\n",
              "</table>\n",
              "<p>301 rows × 3 columns</p>\n",
              "</div>"
            ],
            "text/plain": [
              "                 Country   Medal  Gender\n",
              "283        United States    Gold    2235\n",
              "284        United States  Silver    1252\n",
              "282        United States  Bronze    1098\n",
              "281       United Kingdom  Silver     621\n",
              "279       United Kingdom  Bronze     553\n",
              "..                   ...     ...     ...\n",
              "264  Trinidad and Tobago    Gold       1\n",
              "75               Ecuador    Gold       1\n",
              "166           Luxembourg    Gold       1\n",
              "132               Israel    Gold       1\n",
              "72    Dominican Republic  Bronze       1\n",
              "\n",
              "[301 rows x 3 columns]"
            ]
          },
          "metadata": {},
          "execution_count": 40
        }
      ]
    },
    {
      "cell_type": "code",
      "source": [
        "medals_country = medals_country.pivot('Country', 'Medal', 'Gender').fillna(0)"
      ],
      "metadata": {
        "id": "oSiIH2TcWDhM"
      },
      "execution_count": 41,
      "outputs": []
    },
    {
      "cell_type": "code",
      "source": [
        "medals_country"
      ],
      "metadata": {
        "colab": {
          "base_uri": "https://localhost:8080/",
          "height": 454
        },
        "id": "kw_VBSHFWGol",
        "outputId": "6db7cb93-2620-43b9-b61b-a02dbdd246bd"
      },
      "execution_count": 42,
      "outputs": [
        {
          "output_type": "execute_result",
          "data": {
            "text/html": [
              "<div>\n",
              "<style scoped>\n",
              "    .dataframe tbody tr th:only-of-type {\n",
              "        vertical-align: middle;\n",
              "    }\n",
              "\n",
              "    .dataframe tbody tr th {\n",
              "        vertical-align: top;\n",
              "    }\n",
              "\n",
              "    .dataframe thead th {\n",
              "        text-align: right;\n",
              "    }\n",
              "</style>\n",
              "<table border=\"1\" class=\"dataframe\">\n",
              "  <thead>\n",
              "    <tr style=\"text-align: right;\">\n",
              "      <th>Medal</th>\n",
              "      <th>Bronze</th>\n",
              "      <th>Gold</th>\n",
              "      <th>Silver</th>\n",
              "    </tr>\n",
              "    <tr>\n",
              "      <th>Country</th>\n",
              "      <th></th>\n",
              "      <th></th>\n",
              "      <th></th>\n",
              "    </tr>\n",
              "  </thead>\n",
              "  <tbody>\n",
              "    <tr>\n",
              "      <th>Afghanistan</th>\n",
              "      <td>2.0</td>\n",
              "      <td>0.0</td>\n",
              "      <td>0.0</td>\n",
              "    </tr>\n",
              "    <tr>\n",
              "      <th>Algeria</th>\n",
              "      <td>8.0</td>\n",
              "      <td>5.0</td>\n",
              "      <td>2.0</td>\n",
              "    </tr>\n",
              "    <tr>\n",
              "      <th>Argentina</th>\n",
              "      <td>91.0</td>\n",
              "      <td>69.0</td>\n",
              "      <td>99.0</td>\n",
              "    </tr>\n",
              "    <tr>\n",
              "      <th>Armenia</th>\n",
              "      <td>8.0</td>\n",
              "      <td>1.0</td>\n",
              "      <td>2.0</td>\n",
              "    </tr>\n",
              "    <tr>\n",
              "      <th>Australia</th>\n",
              "      <td>472.0</td>\n",
              "      <td>312.0</td>\n",
              "      <td>405.0</td>\n",
              "    </tr>\n",
              "    <tr>\n",
              "      <th>...</th>\n",
              "      <td>...</td>\n",
              "      <td>...</td>\n",
              "      <td>...</td>\n",
              "    </tr>\n",
              "    <tr>\n",
              "      <th>Venezuela</th>\n",
              "      <td>8.0</td>\n",
              "      <td>2.0</td>\n",
              "      <td>2.0</td>\n",
              "    </tr>\n",
              "    <tr>\n",
              "      <th>Vietnam</th>\n",
              "      <td>0.0</td>\n",
              "      <td>0.0</td>\n",
              "      <td>2.0</td>\n",
              "    </tr>\n",
              "    <tr>\n",
              "      <th>Virgin Islands*</th>\n",
              "      <td>0.0</td>\n",
              "      <td>0.0</td>\n",
              "      <td>1.0</td>\n",
              "    </tr>\n",
              "    <tr>\n",
              "      <th>Zambia</th>\n",
              "      <td>1.0</td>\n",
              "      <td>0.0</td>\n",
              "      <td>1.0</td>\n",
              "    </tr>\n",
              "    <tr>\n",
              "      <th>Zimbabwe</th>\n",
              "      <td>1.0</td>\n",
              "      <td>18.0</td>\n",
              "      <td>4.0</td>\n",
              "    </tr>\n",
              "  </tbody>\n",
              "</table>\n",
              "<p>129 rows × 3 columns</p>\n",
              "</div>"
            ],
            "text/plain": [
              "Medal            Bronze   Gold  Silver\n",
              "Country                               \n",
              "Afghanistan         2.0    0.0     0.0\n",
              "Algeria             8.0    5.0     2.0\n",
              "Argentina          91.0   69.0    99.0\n",
              "Armenia             8.0    1.0     2.0\n",
              "Australia         472.0  312.0   405.0\n",
              "...                 ...    ...     ...\n",
              "Venezuela           8.0    2.0     2.0\n",
              "Vietnam             0.0    0.0     2.0\n",
              "Virgin Islands*     0.0    0.0     1.0\n",
              "Zambia              1.0    0.0     1.0\n",
              "Zimbabwe            1.0   18.0     4.0\n",
              "\n",
              "[129 rows x 3 columns]"
            ]
          },
          "metadata": {},
          "execution_count": 42
        }
      ]
    },
    {
      "cell_type": "code",
      "source": [
        "top = medals_country.sort_values(by='Gold', ascending=False)[:10]"
      ],
      "metadata": {
        "id": "KPYa6mCcWKKl"
      },
      "execution_count": 43,
      "outputs": []
    },
    {
      "cell_type": "code",
      "source": [
        "top"
      ],
      "metadata": {
        "colab": {
          "base_uri": "https://localhost:8080/",
          "height": 394
        },
        "id": "_u_6qkIpWS_k",
        "outputId": "a06a315f-c6a1-4d9f-afae-2a04cd93e4d1"
      },
      "execution_count": 44,
      "outputs": [
        {
          "output_type": "execute_result",
          "data": {
            "text/html": [
              "<div>\n",
              "<style scoped>\n",
              "    .dataframe tbody tr th:only-of-type {\n",
              "        vertical-align: middle;\n",
              "    }\n",
              "\n",
              "    .dataframe tbody tr th {\n",
              "        vertical-align: top;\n",
              "    }\n",
              "\n",
              "    .dataframe thead th {\n",
              "        text-align: right;\n",
              "    }\n",
              "</style>\n",
              "<table border=\"1\" class=\"dataframe\">\n",
              "  <thead>\n",
              "    <tr style=\"text-align: right;\">\n",
              "      <th>Medal</th>\n",
              "      <th>Bronze</th>\n",
              "      <th>Gold</th>\n",
              "      <th>Silver</th>\n",
              "    </tr>\n",
              "    <tr>\n",
              "      <th>Country</th>\n",
              "      <th></th>\n",
              "      <th></th>\n",
              "      <th></th>\n",
              "    </tr>\n",
              "  </thead>\n",
              "  <tbody>\n",
              "    <tr>\n",
              "      <th>United States</th>\n",
              "      <td>1098.0</td>\n",
              "      <td>2235.0</td>\n",
              "      <td>1252.0</td>\n",
              "    </tr>\n",
              "    <tr>\n",
              "      <th>United Kingdom</th>\n",
              "      <td>553.0</td>\n",
              "      <td>546.0</td>\n",
              "      <td>621.0</td>\n",
              "    </tr>\n",
              "    <tr>\n",
              "      <th>Italy</th>\n",
              "      <td>404.0</td>\n",
              "      <td>476.0</td>\n",
              "      <td>416.0</td>\n",
              "    </tr>\n",
              "    <tr>\n",
              "      <th>Germany</th>\n",
              "      <td>475.0</td>\n",
              "      <td>452.0</td>\n",
              "      <td>378.0</td>\n",
              "    </tr>\n",
              "    <tr>\n",
              "      <th>Hungary</th>\n",
              "      <td>351.0</td>\n",
              "      <td>412.0</td>\n",
              "      <td>316.0</td>\n",
              "    </tr>\n",
              "    <tr>\n",
              "      <th>France</th>\n",
              "      <td>497.0</td>\n",
              "      <td>408.0</td>\n",
              "      <td>491.0</td>\n",
              "    </tr>\n",
              "    <tr>\n",
              "      <th>Sweden</th>\n",
              "      <td>328.0</td>\n",
              "      <td>349.0</td>\n",
              "      <td>367.0</td>\n",
              "    </tr>\n",
              "    <tr>\n",
              "      <th>Australia</th>\n",
              "      <td>472.0</td>\n",
              "      <td>312.0</td>\n",
              "      <td>405.0</td>\n",
              "    </tr>\n",
              "    <tr>\n",
              "      <th>China</th>\n",
              "      <td>221.0</td>\n",
              "      <td>290.0</td>\n",
              "      <td>296.0</td>\n",
              "    </tr>\n",
              "    <tr>\n",
              "      <th>Russia</th>\n",
              "      <td>291.0</td>\n",
              "      <td>239.0</td>\n",
              "      <td>238.0</td>\n",
              "    </tr>\n",
              "  </tbody>\n",
              "</table>\n",
              "</div>"
            ],
            "text/plain": [
              "Medal           Bronze    Gold  Silver\n",
              "Country                               \n",
              "United States   1098.0  2235.0  1252.0\n",
              "United Kingdom   553.0   546.0   621.0\n",
              "Italy            404.0   476.0   416.0\n",
              "Germany          475.0   452.0   378.0\n",
              "Hungary          351.0   412.0   316.0\n",
              "France           497.0   408.0   491.0\n",
              "Sweden           328.0   349.0   367.0\n",
              "Australia        472.0   312.0   405.0\n",
              "China            221.0   290.0   296.0\n",
              "Russia           291.0   239.0   238.0"
            ]
          },
          "metadata": {},
          "execution_count": 44
        }
      ]
    },
    {
      "cell_type": "markdown",
      "source": [
        "###**Visulization the data**"
      ],
      "metadata": {
        "id": "Byb1TDOSWXLQ"
      }
    },
    {
      "cell_type": "code",
      "source": [
        "fig = top.plot.barh(width=0.8)\n",
        "fig = plt.gcf()\n",
        "fig.set_size_inches(12,12)\n",
        "plt.title(\"Medals Distribution in top 10 countries\")\n",
        "plt.show()"
      ],
      "metadata": {
        "colab": {
          "base_uri": "https://localhost:8080/",
          "height": 715
        },
        "id": "i_O56w59WT0M",
        "outputId": "9baa1545-47df-46e3-f984-42e2c8afea4a"
      },
      "execution_count": 45,
      "outputs": [
        {
          "output_type": "display_data",
          "data": {
            "image/png": "[encoded data removed]",
            "text/plain": [
              "<Figure size 864x864 with 1 Axes>"
            ]
          },
          "metadata": {
            "needs_background": "light"
          }
        }
      ]
    },
    {
      "cell_type": "code",
      "source": [
        ""
      ],
      "metadata": {
        "id": "_GnFro_5WeEs"
      },
      "execution_count": null,
      "outputs": []
    }
  ]
}